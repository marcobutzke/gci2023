{
 "cells": [
  {
   "cell_type": "code",
   "execution_count": null,
   "metadata": {},
   "outputs": [],
   "source": [
    "import pandas as pd\n",
    "import numpy as np\n",
    "from statsmodels.stats.outliers_influence import variance_inflation_factor"
   ]
  },
  {
   "cell_type": "code",
   "execution_count": null,
   "metadata": {},
   "outputs": [],
   "source": [
    "cidades = pd.read_excel('BRCidadesRegiao.xlsx')\n",
    "cidades"
   ]
  },
  {
   "cell_type": "code",
   "execution_count": null,
   "metadata": {},
   "outputs": [],
   "source": [
    "cidades = cidades[['regiao_imediata', 'cidade', 'estado', 'longitude', 'latitude', 'altitude',\n",
    "'area_territorial', 'populacao_estimada', 'densidade_demografica', 'pib_per_capita', 'receitas_realizadas',\n",
    "'despesas_empenhadas', 'saldo_receitas_despesas', 'unidades', 'unidades_urbanas', 'unidades_rurais', 'area_plantada', 'producao_graos',\n",
    "'IDHM_Renda', 'IDHM_Longevidade', 'IDHM_Educacao', 'GVA_agropecuaria', 'GVA_industria', 'GVA_Servicos', 'GVA_publico',\n",
    "'GDP', 'GDP_populacao', 'GDP_per_capita', 'estabelecimentos', 'carros', 'motos'\n",
    "]].copy()"
   ]
  },
  {
   "cell_type": "code",
   "execution_count": null,
   "metadata": {},
   "outputs": [],
   "source": [
    "cidades.info()"
   ]
  },
  {
   "cell_type": "code",
   "execution_count": null,
   "metadata": {},
   "outputs": [],
   "source": [
    "cidades.replace([np.inf, -np.inf], np.nan, inplace=True)\n",
    "cidades.dropna(inplace=True)\n",
    "cidades"
   ]
  },
  {
   "cell_type": "code",
   "execution_count": null,
   "metadata": {},
   "outputs": [],
   "source": [
    "cidades['estado'].unique()"
   ]
  },
  {
   "cell_type": "code",
   "execution_count": null,
   "metadata": {},
   "outputs": [],
   "source": [
    "cidades_SC = cidades[cidades['estado'] == 'SC'].copy()\n",
    "cidades_SC"
   ]
  },
  {
   "cell_type": "code",
   "execution_count": null,
   "metadata": {},
   "outputs": [],
   "source": [
    "vif_dt = cidades_SC[[\n",
    "'area_territorial', 'populacao_estimada', 'densidade_demografica', 'pib_per_capita', 'receitas_realizadas',\n",
    "'despesas_empenhadas', 'saldo_receitas_despesas', 'unidades', 'unidades_urbanas', 'unidades_rurais', 'area_plantada', 'producao_graos',\n",
    "'IDHM_Renda', 'IDHM_Longevidade', 'IDHM_Educacao', 'GVA_agropecuaria', 'GVA_industria', 'GVA_Servicos', 'GVA_publico',\n",
    "'GDP', 'GDP_populacao', 'GDP_per_capita', 'estabelecimentos', 'carros', 'motos'\n",
    "]]\n",
    "vif_dt"
   ]
  },
  {
   "cell_type": "code",
   "execution_count": null,
   "metadata": {},
   "outputs": [],
   "source": [
    "vif_data = pd.DataFrame()\n",
    "vif_data['variavel'] = vif_dt.columns\n",
    "vif_data['VIF'] = [variance_inflation_factor(vif_dt.values, i) \n",
    "    for i in range(len(vif_dt.columns))]\n",
    "round(vif_data,4)"
   ]
  },
  {
   "cell_type": "code",
   "execution_count": null,
   "metadata": {},
   "outputs": [],
   "source": [
    "vif_dt = cidades_SC[[\n",
    "'area_territorial', 'populacao_estimada', 'pib_per_capita', \n",
    "'saldo_receitas_despesas', 'IDHM_Educacao', 'GDP']]\n",
    "vif_dt"
   ]
  },
  {
   "cell_type": "code",
   "execution_count": null,
   "metadata": {},
   "outputs": [],
   "source": [
    "vif_data = pd.DataFrame()\n",
    "vif_data['variavel'] = vif_dt.columns\n",
    "vif_data['VIF'] = [variance_inflation_factor(vif_dt.values, i) \n",
    "    for i in range(len(vif_dt.columns))]\n",
    "vif_data"
   ]
  },
  {
   "cell_type": "code",
   "execution_count": null,
   "metadata": {},
   "outputs": [],
   "source": [
    "vif_dt = vif_dt.copy()\n",
    "for coluna in vif_dt.columns:\n",
    "    print(coluna)\n",
    "    out_max = vif_dt[coluna].quantile(0.75) + ((vif_dt[coluna].quantile(0.75) - vif_dt[coluna].quantile(0.25)) * 1.5)\n",
    "    print(out_max)\n",
    "    vif_dt[coluna] = vif_dt[coluna].apply(lambda x : out_max if x > out_max else x)\n",
    "    out_min = vif_dt[coluna].quantile(0.25) - ((vif_dt[coluna].quantile(0.75) - vif_dt[coluna].quantile(0.25)) * 1.5)\n",
    "    print(out_min)\n",
    "    vif_dt[coluna] = vif_dt[coluna].apply(lambda x : out_min if x < out_min else x)\n",
    "vif_dt"
   ]
  },
  {
   "cell_type": "code",
   "execution_count": null,
   "metadata": {},
   "outputs": [],
   "source": [
    "colunas = ['area_territorial', 'populacao_estimada', 'pib_per_capita', 'saldo_receitas_despesas', 'IDHM_Educacao', 'GDP']\n",
    "sel = colunas\n",
    "cidadesz = vif_dt[sel].copy()\n",
    "listaz = []\n",
    "for coluna in colunas:\n",
    "    if coluna != \"cidade\":\n",
    "        print(coluna)\n",
    "        listaz.insert(0, 'z_'+coluna)\n",
    "        media = cidadesz[coluna].mean()\n",
    "        dp = cidadesz[coluna].std()\n",
    "        cidadesz['z_'+coluna] = cidadesz[coluna].apply(lambda x : (x - media) / dp)\n",
    "cidadesz['totalz'] = cidadesz[listaz].sum(axis=1)\n",
    "cidadesz['ranking'] = cidadesz['totalz'].rank(ascending=False)\n",
    "cidadesz   "
   ]
  },
  {
   "cell_type": "code",
   "execution_count": null,
   "metadata": {},
   "outputs": [],
   "source": [
    "cidades_SC = cidades_SC.merge(cidadesz, right_index=True, left_index=True, how = 'left')\n",
    "cidades_SC"
   ]
  },
  {
   "cell_type": "code",
   "execution_count": null,
   "metadata": {},
   "outputs": [],
   "source": [
    "cidades_SC.sort_values(by='ranking')[1:10]"
   ]
  },
  {
   "cell_type": "code",
   "execution_count": null,
   "metadata": {},
   "outputs": [],
   "source": [
    "cidades_SC.sort_values(by='ranking', ascending=False)[1:10]"
   ]
  },
  {
   "cell_type": "code",
   "execution_count": null,
   "metadata": {},
   "outputs": [],
   "source": [
    "regioes = cidades.groupby(['estado','regiao_imediata'])[['area_territorial', 'populacao_estimada', 'pib_per_capita', 'saldo_receitas_despesas', 'IDHM_Educacao', 'GDP']].mean().reset_index().copy()\n",
    "regioes"
   ]
  },
  {
   "cell_type": "code",
   "execution_count": null,
   "metadata": {},
   "outputs": [],
   "source": [
    "regioes_SC = regioes[regioes['estado'] == 'SC']\n",
    "regioes_SC"
   ]
  },
  {
   "cell_type": "code",
   "execution_count": null,
   "metadata": {},
   "outputs": [],
   "source": [
    "colunas = ['area_territorial', 'populacao_estimada', 'pib_per_capita', 'saldo_receitas_despesas', 'IDHM_Educacao', 'GDP']\n",
    "sel = colunas\n",
    "regioesz = regioes_SC[sel].copy()\n",
    "listaz = []\n",
    "for coluna in colunas:\n",
    "    if (coluna != \"estado\") & (coluna != \"regiao_imediata\"):\n",
    "        print(coluna)\n",
    "        listaz.insert(0, 'z_'+coluna)\n",
    "        media = regioesz[coluna].mean()\n",
    "        dp = regioesz[coluna].std()\n",
    "        regioesz['z_'+coluna] = regioesz[coluna].apply(lambda x : (x - media) / dp)\n",
    "regioesz['totalz'] = regioesz[listaz].sum(axis=1)\n",
    "regioesz['ranking'] = regioesz['totalz'].rank(ascending=False)\n",
    "regioesz  "
   ]
  },
  {
   "cell_type": "code",
   "execution_count": null,
   "metadata": {},
   "outputs": [],
   "source": [
    "regioes_SC = regioes_SC.merge(regioesz, right_index=True, left_index=True, how = 'left')\n",
    "regioes_SC"
   ]
  },
  {
   "cell_type": "code",
   "execution_count": null,
   "metadata": {},
   "outputs": [],
   "source": [
    "regioes_SC.sort_values(by='ranking')[1:4]"
   ]
  },
  {
   "cell_type": "code",
   "execution_count": null,
   "metadata": {},
   "outputs": [],
   "source": [
    "regioes_SC.sort_values(by='ranking', ascending=False)[1:4]"
   ]
  }
 ],
 "metadata": {
  "kernelspec": {
   "display_name": "Python 3",
   "language": "python",
   "name": "python3"
  },
  "language_info": {
   "codemirror_mode": {
    "name": "ipython",
    "version": 3
   },
   "file_extension": ".py",
   "mimetype": "text/x-python",
   "name": "python",
   "nbconvert_exporter": "python",
   "pygments_lexer": "ipython3",
   "version": "3.8.16"
  },
  "orig_nbformat": 4,
  "vscode": {
   "interpreter": {
    "hash": "6823027d7e29b41a4e6f28161e95b4dfbe0e8b9a6a7278f50ef7cf75c6459dbe"
   }
  }
 },
 "nbformat": 4,
 "nbformat_minor": 2
}
