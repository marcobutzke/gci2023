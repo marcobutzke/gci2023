{
 "cells": [
  {
   "cell_type": "code",
   "execution_count": null,
   "metadata": {},
   "outputs": [],
   "source": [
    "import pandas as pd"
   ]
  },
  {
   "cell_type": "code",
   "execution_count": null,
   "metadata": {},
   "outputs": [],
   "source": [
    "estados = pd.read_csv('brasil_estados.csv')\n",
    "estados"
   ]
  },
  {
   "cell_type": "code",
   "execution_count": null,
   "metadata": {},
   "outputs": [],
   "source": [
    "data = estados[\n",
    "    [\n",
    "        'area',\n",
    "        'populacao',\n",
    "        'densidade',\n",
    "        'matricula',\n",
    "        'idh',\n",
    "        'receitas',\n",
    "        'despesas',\n",
    "        'rendimento',\n",
    "        'veiculos'\n",
    "    ]\n",
    "]\n",
    "data"
   ]
  },
  {
   "cell_type": "code",
   "execution_count": 4,
   "metadata": {},
   "outputs": [
    {
     "data": {
      "text/html": [
       "<div>\n",
       "<style scoped>\n",
       "    .dataframe tbody tr th:only-of-type {\n",
       "        vertical-align: middle;\n",
       "    }\n",
       "\n",
       "    .dataframe tbody tr th {\n",
       "        vertical-align: top;\n",
       "    }\n",
       "\n",
       "    .dataframe thead th {\n",
       "        text-align: right;\n",
       "    }\n",
       "</style>\n",
       "<table border=\"1\" class=\"dataframe\">\n",
       "  <thead>\n",
       "    <tr style=\"text-align: right;\">\n",
       "      <th></th>\n",
       "      <th>area</th>\n",
       "      <th>populacao</th>\n",
       "      <th>densidade</th>\n",
       "      <th>matricula</th>\n",
       "      <th>idh</th>\n",
       "      <th>receitas</th>\n",
       "      <th>despesas</th>\n",
       "      <th>rendimento</th>\n",
       "      <th>veiculos</th>\n",
       "    </tr>\n",
       "  </thead>\n",
       "  <tbody>\n",
       "    <tr>\n",
       "      <th>area</th>\n",
       "      <td>1.000000</td>\n",
       "      <td>0.045726</td>\n",
       "      <td>-0.375995</td>\n",
       "      <td>0.103052</td>\n",
       "      <td>-0.210447</td>\n",
       "      <td>0.009131</td>\n",
       "      <td>0.012493</td>\n",
       "      <td>-0.242461</td>\n",
       "      <td>-0.022114</td>\n",
       "    </tr>\n",
       "    <tr>\n",
       "      <th>populacao</th>\n",
       "      <td>0.045726</td>\n",
       "      <td>1.000000</td>\n",
       "      <td>0.264256</td>\n",
       "      <td>0.994712</td>\n",
       "      <td>0.368471</td>\n",
       "      <td>0.983539</td>\n",
       "      <td>0.981515</td>\n",
       "      <td>0.365265</td>\n",
       "      <td>0.967715</td>\n",
       "    </tr>\n",
       "    <tr>\n",
       "      <th>densidade</th>\n",
       "      <td>-0.375995</td>\n",
       "      <td>0.264256</td>\n",
       "      <td>1.000000</td>\n",
       "      <td>0.233783</td>\n",
       "      <td>0.555199</td>\n",
       "      <td>0.291367</td>\n",
       "      <td>0.278740</td>\n",
       "      <td>0.694530</td>\n",
       "      <td>0.241153</td>\n",
       "    </tr>\n",
       "    <tr>\n",
       "      <th>matricula</th>\n",
       "      <td>0.103052</td>\n",
       "      <td>0.994712</td>\n",
       "      <td>0.233783</td>\n",
       "      <td>1.000000</td>\n",
       "      <td>0.304599</td>\n",
       "      <td>0.963954</td>\n",
       "      <td>0.962989</td>\n",
       "      <td>0.307704</td>\n",
       "      <td>0.944988</td>\n",
       "    </tr>\n",
       "    <tr>\n",
       "      <th>idh</th>\n",
       "      <td>-0.210447</td>\n",
       "      <td>0.368471</td>\n",
       "      <td>0.555199</td>\n",
       "      <td>0.304599</td>\n",
       "      <td>1.000000</td>\n",
       "      <td>0.478499</td>\n",
       "      <td>0.454881</td>\n",
       "      <td>0.947880</td>\n",
       "      <td>0.483255</td>\n",
       "    </tr>\n",
       "    <tr>\n",
       "      <th>receitas</th>\n",
       "      <td>0.009131</td>\n",
       "      <td>0.983539</td>\n",
       "      <td>0.291367</td>\n",
       "      <td>0.963954</td>\n",
       "      <td>0.478499</td>\n",
       "      <td>1.000000</td>\n",
       "      <td>0.997481</td>\n",
       "      <td>0.468843</td>\n",
       "      <td>0.991868</td>\n",
       "    </tr>\n",
       "    <tr>\n",
       "      <th>despesas</th>\n",
       "      <td>0.012493</td>\n",
       "      <td>0.981515</td>\n",
       "      <td>0.278740</td>\n",
       "      <td>0.962989</td>\n",
       "      <td>0.454881</td>\n",
       "      <td>0.997481</td>\n",
       "      <td>1.000000</td>\n",
       "      <td>0.448210</td>\n",
       "      <td>0.991337</td>\n",
       "    </tr>\n",
       "    <tr>\n",
       "      <th>rendimento</th>\n",
       "      <td>-0.242461</td>\n",
       "      <td>0.365265</td>\n",
       "      <td>0.694530</td>\n",
       "      <td>0.307704</td>\n",
       "      <td>0.947880</td>\n",
       "      <td>0.468843</td>\n",
       "      <td>0.448210</td>\n",
       "      <td>1.000000</td>\n",
       "      <td>0.460790</td>\n",
       "    </tr>\n",
       "    <tr>\n",
       "      <th>veiculos</th>\n",
       "      <td>-0.022114</td>\n",
       "      <td>0.967715</td>\n",
       "      <td>0.241153</td>\n",
       "      <td>0.944988</td>\n",
       "      <td>0.483255</td>\n",
       "      <td>0.991868</td>\n",
       "      <td>0.991337</td>\n",
       "      <td>0.460790</td>\n",
       "      <td>1.000000</td>\n",
       "    </tr>\n",
       "  </tbody>\n",
       "</table>\n",
       "</div>"
      ],
      "text/plain": [
       "                area  populacao  densidade  matricula       idh  receitas  \\\n",
       "area        1.000000   0.045726  -0.375995   0.103052 -0.210447  0.009131   \n",
       "populacao   0.045726   1.000000   0.264256   0.994712  0.368471  0.983539   \n",
       "densidade  -0.375995   0.264256   1.000000   0.233783  0.555199  0.291367   \n",
       "matricula   0.103052   0.994712   0.233783   1.000000  0.304599  0.963954   \n",
       "idh        -0.210447   0.368471   0.555199   0.304599  1.000000  0.478499   \n",
       "receitas    0.009131   0.983539   0.291367   0.963954  0.478499  1.000000   \n",
       "despesas    0.012493   0.981515   0.278740   0.962989  0.454881  0.997481   \n",
       "rendimento -0.242461   0.365265   0.694530   0.307704  0.947880  0.468843   \n",
       "veiculos   -0.022114   0.967715   0.241153   0.944988  0.483255  0.991868   \n",
       "\n",
       "            despesas  rendimento  veiculos  \n",
       "area        0.012493   -0.242461 -0.022114  \n",
       "populacao   0.981515    0.365265  0.967715  \n",
       "densidade   0.278740    0.694530  0.241153  \n",
       "matricula   0.962989    0.307704  0.944988  \n",
       "idh         0.454881    0.947880  0.483255  \n",
       "receitas    0.997481    0.468843  0.991868  \n",
       "despesas    1.000000    0.448210  0.991337  \n",
       "rendimento  0.448210    1.000000  0.460790  \n",
       "veiculos    0.991337    0.460790  1.000000  "
      ]
     },
     "execution_count": 4,
     "metadata": {},
     "output_type": "execute_result"
    }
   ],
   "source": [
    "data.corr()"
   ]
  },
  {
   "cell_type": "code",
   "execution_count": 5,
   "metadata": {},
   "outputs": [],
   "source": [
    "import seaborn as sns"
   ]
  },
  {
   "cell_type": "code",
   "execution_count": 6,
   "metadata": {},
   "outputs": [
    {
     "data": {
      "text/plain": [
       "<Axes: xlabel='area', ylabel='populacao'>"
      ]
     },
     "execution_count": 6,
     "metadata": {},
     "output_type": "execute_result"
    },
    {
     "data": {
      "image/png": "[encoded data removed]",
      "text/plain": [
       "<Figure size 640x480 with 1 Axes>"
      ]
     },
     "metadata": {},
     "output_type": "display_data"
    }
   ],
   "source": [
    "sns.regplot(data=data, x='area', y='populacao')"
   ]
  },
  {
   "cell_type": "code",
   "execution_count": 9,
   "metadata": {},
   "outputs": [],
   "source": [
    "from statsmodels.stats.outliers_influence import variance_inflation_factor"
   ]
  },
  {
   "cell_type": "code",
   "execution_count": 15,
   "metadata": {},
   "outputs": [
    {
     "data": {
      "text/html": [
       "<div>\n",
       "<style scoped>\n",
       "    .dataframe tbody tr th:only-of-type {\n",
       "        vertical-align: middle;\n",
       "    }\n",
       "\n",
       "    .dataframe tbody tr th {\n",
       "        vertical-align: top;\n",
       "    }\n",
       "\n",
       "    .dataframe thead th {\n",
       "        text-align: right;\n",
       "    }\n",
       "</style>\n",
       "<table border=\"1\" class=\"dataframe\">\n",
       "  <thead>\n",
       "    <tr style=\"text-align: right;\">\n",
       "      <th></th>\n",
       "      <th>variavel</th>\n",
       "      <th>VIF</th>\n",
       "    </tr>\n",
       "  </thead>\n",
       "  <tbody>\n",
       "    <tr>\n",
       "      <th>0</th>\n",
       "      <td>area</td>\n",
       "      <td>2.061160</td>\n",
       "    </tr>\n",
       "    <tr>\n",
       "      <th>1</th>\n",
       "      <td>densidade</td>\n",
       "      <td>3.133636</td>\n",
       "    </tr>\n",
       "    <tr>\n",
       "      <th>2</th>\n",
       "      <td>idh</td>\n",
       "      <td>18.104908</td>\n",
       "    </tr>\n",
       "    <tr>\n",
       "      <th>3</th>\n",
       "      <td>populacao</td>\n",
       "      <td>2.053911</td>\n",
       "    </tr>\n",
       "    <tr>\n",
       "      <th>4</th>\n",
       "      <td>rendimento</td>\n",
       "      <td>23.531576</td>\n",
       "    </tr>\n",
       "  </tbody>\n",
       "</table>\n",
       "</div>"
      ],
      "text/plain": [
       "     variavel        VIF\n",
       "0        area   2.061160\n",
       "1   densidade   3.133636\n",
       "2         idh  18.104908\n",
       "3   populacao   2.053911\n",
       "4  rendimento  23.531576"
      ]
     },
     "execution_count": 15,
     "metadata": {},
     "output_type": "execute_result"
    }
   ],
   "source": [
    "vif = data[['area', 'densidade', 'idh', 'populacao', 'rendimento']]\n",
    "vif_data = pd.DataFrame()\n",
    "vif_data['variavel'] = vif.columns\n",
    "vif_data['VIF'] = [variance_inflation_factor(vif.values, i) \n",
    "    for i in range(len(vif.columns))]\n",
    "vif_data"
   ]
  },
  {
   "cell_type": "code",
   "execution_count": 20,
   "metadata": {},
   "outputs": [],
   "source": [
    "from statsmodels.stats.multicomp import pairwise_tukeyhsd\n",
    "from itertools import combinations"
   ]
  },
  {
   "cell_type": "code",
   "execution_count": 27,
   "metadata": {},
   "outputs": [
    {
     "name": "stdout",
     "output_type": "stream",
     "text": [
      "[('CentroOeste', 'Nordeste'), ('CentroOeste', 'Norte'), ('CentroOeste', 'Sudeste'), ('CentroOeste', 'Sul'), ('Nordeste', 'Norte'), ('Nordeste', 'Sudeste'), ('Nordeste', 'Sul'), ('Norte', 'Sudeste'), ('Norte', 'Sul'), ('Sudeste', 'Sul')]\n"
     ]
    },
    {
     "data": {
      "text/html": [
       "<div>\n",
       "<style scoped>\n",
       "    .dataframe tbody tr th:only-of-type {\n",
       "        vertical-align: middle;\n",
       "    }\n",
       "\n",
       "    .dataframe tbody tr th {\n",
       "        vertical-align: top;\n",
       "    }\n",
       "\n",
       "    .dataframe thead th {\n",
       "        text-align: right;\n",
       "    }\n",
       "</style>\n",
       "<table border=\"1\" class=\"dataframe\">\n",
       "  <thead>\n",
       "    <tr style=\"text-align: right;\">\n",
       "      <th></th>\n",
       "      <th>reject</th>\n",
       "      <th>meandiffs</th>\n",
       "      <th>pvalues</th>\n",
       "    </tr>\n",
       "  </thead>\n",
       "  <tbody>\n",
       "    <tr>\n",
       "      <th>0</th>\n",
       "      <td>True</td>\n",
       "      <td>-0.093472</td>\n",
       "      <td>0.000046</td>\n",
       "    </tr>\n",
       "    <tr>\n",
       "      <th>1</th>\n",
       "      <td>True</td>\n",
       "      <td>-0.069393</td>\n",
       "      <td>0.002701</td>\n",
       "    </tr>\n",
       "    <tr>\n",
       "      <th>2</th>\n",
       "      <td>False</td>\n",
       "      <td>0.000500</td>\n",
       "      <td>1.000000</td>\n",
       "    </tr>\n",
       "    <tr>\n",
       "      <th>3</th>\n",
       "      <td>False</td>\n",
       "      <td>0.003083</td>\n",
       "      <td>0.999859</td>\n",
       "    </tr>\n",
       "    <tr>\n",
       "      <th>4</th>\n",
       "      <td>False</td>\n",
       "      <td>0.024079</td>\n",
       "      <td>0.379291</td>\n",
       "    </tr>\n",
       "    <tr>\n",
       "      <th>5</th>\n",
       "      <td>True</td>\n",
       "      <td>0.093972</td>\n",
       "      <td>0.000043</td>\n",
       "    </tr>\n",
       "    <tr>\n",
       "      <th>6</th>\n",
       "      <td>True</td>\n",
       "      <td>0.096556</td>\n",
       "      <td>0.000121</td>\n",
       "    </tr>\n",
       "    <tr>\n",
       "      <th>7</th>\n",
       "      <td>True</td>\n",
       "      <td>0.069893</td>\n",
       "      <td>0.002512</td>\n",
       "    </tr>\n",
       "    <tr>\n",
       "      <th>8</th>\n",
       "      <td>True</td>\n",
       "      <td>0.072476</td>\n",
       "      <td>0.004520</td>\n",
       "    </tr>\n",
       "    <tr>\n",
       "      <th>9</th>\n",
       "      <td>False</td>\n",
       "      <td>0.002583</td>\n",
       "      <td>0.999930</td>\n",
       "    </tr>\n",
       "  </tbody>\n",
       "</table>\n",
       "</div>"
      ],
      "text/plain": [
       "   reject  meandiffs   pvalues\n",
       "0    True  -0.093472  0.000046\n",
       "1    True  -0.069393  0.002701\n",
       "2   False   0.000500  1.000000\n",
       "3   False   0.003083  0.999859\n",
       "4   False   0.024079  0.379291\n",
       "5    True   0.093972  0.000043\n",
       "6    True   0.096556  0.000121\n",
       "7    True   0.069893  0.002512\n",
       "8    True   0.072476  0.004520\n",
       "9   False   0.002583  0.999930"
      ]
     },
     "execution_count": 27,
     "metadata": {},
     "output_type": "execute_result"
    }
   ],
   "source": [
    "tukey = pairwise_tukeyhsd(\n",
    "    endog=estados['idh'], groups=estados['regiao_nome'], alpha=0.05\n",
    ")\n",
    "df_tukey = pd.DataFrame()\n",
    "combinacao = combinations(tukey.groupsunique,2)\n",
    "print(list(combinacao))\n",
    "for grupo in list(combinacao):\n",
    "    df_tukey = df_tukey.append(\n",
    "        {'grupo1': grupo[0], 'grupo2': grupo[1]}, ignore_index=True\n",
    "    )\n",
    "df_tukey['reject'] = tukey.reject\n",
    "df_tukey['meandiffs'] = tukey.meandiffs\n",
    "df_tukey['pvalues'] = tukey.pvalues \n",
    "df_tukey   "
   ]
  },
  {
   "cell_type": "code",
   "execution_count": 31,
   "metadata": {},
   "outputs": [
    {
     "data": {
      "text/html": [
       "<table class=\"simpletable\">\n",
       "<caption>Multiple Comparison of Means - Tukey HSD, FWER=0.05</caption>\n",
       "<tr>\n",
       "    <th>group1</th>     <th>group2</th>  <th>meandiff</th>  <th>p-adj</th>  <th>lower</th>   <th>upper</th>  <th>reject</th>\n",
       "</tr>\n",
       "<tr>\n",
       "  <td>CentroOeste</td> <td>Nordeste</td>  <td>-0.0935</td>   <td>0.0</td>  <td>-0.1399</td> <td>-0.0471</td>  <td>True</td> \n",
       "</tr>\n",
       "<tr>\n",
       "  <td>CentroOeste</td>   <td>Norte</td>   <td>-0.0694</td> <td>0.0027</td> <td>-0.1178</td> <td>-0.021</td>   <td>True</td> \n",
       "</tr>\n",
       "<tr>\n",
       "  <td>CentroOeste</td>  <td>Sudeste</td>  <td>0.0005</td>    <td>1.0</td>  <td>-0.0541</td> <td>0.0551</td>   <td>False</td>\n",
       "</tr>\n",
       "<tr>\n",
       "  <td>CentroOeste</td>    <td>Sul</td>    <td>0.0031</td>  <td>0.9999</td> <td>-0.0559</td> <td>0.0621</td>   <td>False</td>\n",
       "</tr>\n",
       "<tr>\n",
       "   <td>Nordeste</td>     <td>Norte</td>   <td>0.0241</td>  <td>0.3793</td> <td>-0.0148</td>  <td>0.063</td>   <td>False</td>\n",
       "</tr>\n",
       "<tr>\n",
       "   <td>Nordeste</td>    <td>Sudeste</td>   <td>0.094</td>    <td>0.0</td>  <td>0.0476</td>  <td>0.1404</td>   <td>True</td> \n",
       "</tr>\n",
       "<tr>\n",
       "   <td>Nordeste</td>      <td>Sul</td>    <td>0.0966</td>  <td>0.0001</td> <td>0.0451</td>   <td>0.148</td>   <td>True</td> \n",
       "</tr>\n",
       "<tr>\n",
       "     <td>Norte</td>     <td>Sudeste</td>  <td>0.0699</td>  <td>0.0025</td> <td>0.0215</td>  <td>0.1183</td>   <td>True</td> \n",
       "</tr>\n",
       "<tr>\n",
       "     <td>Norte</td>       <td>Sul</td>    <td>0.0725</td>  <td>0.0045</td> <td>0.0192</td>  <td>0.1258</td>   <td>True</td> \n",
       "</tr>\n",
       "<tr>\n",
       "    <td>Sudeste</td>      <td>Sul</td>    <td>0.0026</td>  <td>0.9999</td> <td>-0.0564</td> <td>0.0616</td>   <td>False</td>\n",
       "</tr>\n",
       "</table>"
      ],
      "text/plain": [
       "<class 'statsmodels.iolib.table.SimpleTable'>"
      ]
     },
     "execution_count": 31,
     "metadata": {},
     "output_type": "execute_result"
    }
   ],
   "source": [
    "tukey = pairwise_tukeyhsd(\n",
    "    endog=estados['idh'], groups=estados['regiao_nome'], alpha=0.05\n",
    ")\n",
    "tukey.summary()"
   ]
  },
  {
   "cell_type": "code",
   "execution_count": 33,
   "metadata": {},
   "outputs": [
    {
     "data": {
      "text/plain": [
       "<Axes: xlabel='regiao_nome', ylabel='idh'>"
      ]
     },
     "execution_count": 33,
     "metadata": {},
     "output_type": "execute_result"
    },
    {
     "data": {
      "image/png": "[encoded data removed]",
      "text/plain": [
       "<Figure size 640x480 with 1 Axes>"
      ]
     },
     "metadata": {},
     "output_type": "display_data"
    }
   ],
   "source": [
    "sns.boxplot(data=estados, x='regiao_nome', y='idh')"
   ]
  }
 ],
 "metadata": {
  "kernelspec": {
   "display_name": "Python 3",
   "language": "python",
   "name": "python3"
  },
  "language_info": {
   "codemirror_mode": {
    "name": "ipython",
    "version": 3
   },
   "file_extension": ".py",
   "mimetype": "text/x-python",
   "name": "python",
   "nbconvert_exporter": "python",
   "pygments_lexer": "ipython3",
   "version": "3.8.16"
  },
  "orig_nbformat": 4
 },
 "nbformat": 4,
 "nbformat_minor": 2
}
